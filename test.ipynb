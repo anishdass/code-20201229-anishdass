{
  "nbformat": 4,
  "nbformat_minor": 0,
  "metadata": {
    "colab": {
      "name": "test.ipynb",
      "provenance": [],
      "collapsed_sections": []
    },
    "kernelspec": {
      "name": "python3",
      "display_name": "Python 3"
    }
  },
  "cells": [
    {
      "cell_type": "code",
      "metadata": {
        "colab": {
          "base_uri": "https://localhost:8080/"
        },
        "id": "ZmpPgVgEJgoL",
        "outputId": "2a457c2d-dd83-4419-e837-d21554a3cd04"
      },
      "source": [
        "drive.mount('/content/gdrive')"
      ],
      "execution_count": 111,
      "outputs": [
        {
          "output_type": "stream",
          "text": [
            "Drive already mounted at /content/gdrive; to attempt to forcibly remount, call drive.mount(\"/content/gdrive\", force_remount=True).\n"
          ],
          "name": "stdout"
        }
      ]
    },
    {
      "cell_type": "code",
      "metadata": {
        "id": "HTOqoxAYI91F"
      },
      "source": [
        "from google.colab import drive\r\n",
        "import json\r\n",
        "import os\r\n",
        "os.chdir('/content/gdrive/MyDrive')\r\n",
        "import io\r\n",
        "import numpy as np"
      ],
      "execution_count": 1,
      "outputs": []
    },
    {
      "cell_type": "code",
      "metadata": {
        "id": "jOx6KtfCP9Fu"
      },
      "source": [
        "with open('test.json', encoding = 'utf-8', errors = 'ignore') as json_file:\r\n",
        "  data = json.load(json_file, strict = True)"
      ],
      "execution_count": 2,
      "outputs": []
    },
    {
      "cell_type": "code",
      "metadata": {
        "colab": {
          "base_uri": "https://localhost:8080/"
        },
        "id": "lU2Bzd6NQdmd",
        "outputId": "b74b44ab-777a-4858-8fb8-bd1a7c7bb10b"
      },
      "source": [
        "data"
      ],
      "execution_count": 3,
      "outputs": [
        {
          "output_type": "execute_result",
          "data": {
            "text/plain": [
              "[{'Gender': 'Male', 'HeightCm': 171, 'WeightKg': 96},\n",
              " {'Gender': 'Male', 'HeightCm': 161, 'WeightKg': 85},\n",
              " {'Gender': 'Male', 'HeightCm': 180, 'WeightKg': 77},\n",
              " {'Gender': 'Female', 'HeightCm': 166, 'WeightKg': 62},\n",
              " {'Gender': 'Female', 'HeightCm': 150, 'WeightKg': 70},\n",
              " {'Gender': 'Female', 'HeightCm': 167, 'WeightKg': 82}]"
            ]
          },
          "metadata": {
            "tags": []
          },
          "execution_count": 3
        }
      ]
    },
    {
      "cell_type": "code",
      "metadata": {
        "id": "pjNsG8K2SOzr"
      },
      "source": [
        "def convert_to_meter(height):\r\n",
        "  new_height = height/100\r\n",
        "  return new_height"
      ],
      "execution_count": 4,
      "outputs": []
    },
    {
      "cell_type": "code",
      "metadata": {
        "id": "tb4gdkOwZ2p-"
      },
      "source": [
        "def calc_bmi(weight, height):\r\n",
        "  bmi = weight/np.square(convert_to_meter(height))\r\n",
        "  return bmi"
      ],
      "execution_count": 5,
      "outputs": []
    },
    {
      "cell_type": "code",
      "metadata": {
        "id": "JUbKd8hSaFSl"
      },
      "source": [
        "def calc_health_risk(bmi):\r\n",
        "  bmi_category = ''\r\n",
        "  comments = ''\r\n",
        "  if bmi < 18.5:\r\n",
        "    bmi_category = 'Underweight'\r\n",
        "    comments = 'Malnutrition risk'\r\n",
        "  elif 18.5 < bmi < 25:\r\n",
        "    bmi_category = 'Normal weight'\r\n",
        "    comments = 'Low risk'\r\n",
        "  elif 25 < bmi < 30:\r\n",
        "    bmi_category = 'Overweight'\r\n",
        "    comments = 'Enhanced risk'\r\n",
        "  elif 30 < bmi < 35:\r\n",
        "    bmi_category = 'Moderately obese'\r\n",
        "    comments = 'Medium risk'\r\n",
        "  elif 35 < bmi < 40:\r\n",
        "    bmi_category = 'Severely obese'\r\n",
        "    comments = 'High risk'\r\n",
        "  elif bmi > 40:\r\n",
        "    bmi_category = 'Very severely obese'\r\n",
        "    comments = 'Very high risk'\r\n",
        "  else:\r\n",
        "    bmi_category = 'Invalid'\r\n",
        "    comments = 'Invalid'\r\n",
        "  return bmi_category, comments"
      ],
      "execution_count": 6,
      "outputs": []
    },
    {
      "cell_type": "code",
      "metadata": {
        "id": "LXs5wsgv7kwx"
      },
      "source": [
        "new_data = []"
      ],
      "execution_count": 7,
      "outputs": []
    },
    {
      "cell_type": "code",
      "metadata": {
        "id": "HjO9RIDA9XFF"
      },
      "source": [
        "def main():\r\n",
        "  for each_data in data:\r\n",
        "    bmi = np.round(calc_bmi(each_data['WeightKg'], each_data['HeightCm']), 2)\r\n",
        "    bmi_category, health_risk = calc_health_risk(bmi)\r\n",
        "    new_features = {'BMI':bmi, 'BMICategory':bmi_category, 'HealthRisk':health_risk}\r\n",
        "    each_data.update(new_features)\r\n",
        "    new_data.append(each_data)"
      ],
      "execution_count": 9,
      "outputs": []
    },
    {
      "cell_type": "code",
      "metadata": {
        "id": "NjSlt4bf6qfL"
      },
      "source": [
        "if __name__=='__main__':\r\n",
        "  main()"
      ],
      "execution_count": 10,
      "outputs": []
    },
    {
      "cell_type": "code",
      "metadata": {
        "id": "RHMdq4GGLnc1"
      },
      "source": [
        ""
      ],
      "execution_count": null,
      "outputs": []
    }
  ]
}